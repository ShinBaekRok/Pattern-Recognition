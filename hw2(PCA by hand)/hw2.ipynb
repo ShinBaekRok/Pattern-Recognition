{
 "cells": [
  {
   "cell_type": "markdown",
   "id": "7a687be9",
   "metadata": {},
   "source": [
    "# HW2 Pattern Recognition\n",
    "### 2019150445 신백록\n"
   ]
  },
  {
   "cell_type": "markdown",
   "id": "9d9c37bd",
   "metadata": {},
   "source": [
    "<br/><br/><br/>\n",
    "<hr style=\"border: 5px solid #990000;\" />\n",
    "<hr style=\"border: 1px solid #dbbcac;\" />\n",
    "\n",
    "\n",
    "## 0. Data Preprocessing & Visualization"
   ]
  },
  {
   "cell_type": "code",
   "execution_count": 1,
   "id": "8de368f2",
   "metadata": {},
   "outputs": [
    {
     "name": "stdout",
     "output_type": "stream",
     "text": [
      "Init Plugin\n",
      "Init Graph Optimizer\n",
      "Init Kernel\n",
      "(60000, 28, 28)\n",
      "(10000, 28, 28)\n",
      "(60000,)\n",
      "(10000,)\n"
     ]
    }
   ],
   "source": [
    "import numpy as np\n",
    "import tensorflow as tf\n",
    "from tensorflow.keras.datasets import mnist\n",
    "import matplotlib.pyplot as plt\n",
    "\n",
    "(x_train,y_train),(x_test,y_test)=mnist.load_data()\n",
    "print(x_train.shape)\n",
    "print(x_test.shape)\n",
    "print(y_train.shape)\n",
    "print(y_test.shape)"
   ]
  },
  {
   "cell_type": "code",
   "execution_count": 2,
   "id": "14a77ba6",
   "metadata": {},
   "outputs": [
    {
     "name": "stdout",
     "output_type": "stream",
     "text": [
      "Train labels: {0: 5923, 1: 6742, 2: 5958, 3: 6131, 4: 5842, 5: 5421, 6: 5918, 7: 6265, 8: 5851, 9: 5949}\n",
      "Test labels: {0: 980, 1: 1135, 2: 1032, 3: 1010, 4: 982, 5: 892, 6: 958, 7: 1028, 8: 974, 9: 1009}\n"
     ]
    }
   ],
   "source": [
    "unique,counts=np.unique(y_train,return_counts=True)\n",
    "print('Train labels:',dict(zip(unique,counts)))\n",
    "unique,counts=np.unique(y_test,return_counts=True)\n",
    "print('Test labels:',dict(zip(unique,counts)))"
   ]
  },
  {
   "cell_type": "code",
   "execution_count": 3,
   "id": "8c088eaf",
   "metadata": {},
   "outputs": [
    {
     "data": {
      "image/png": "[encoded data removed]",
      "text/plain": [
       "<Figure size 144x144 with 4 Axes>"
      ]
     },
     "metadata": {
      "needs_background": "light"
     },
     "output_type": "display_data"
    }
   ],
   "source": [
    "indices=np.random.randint(0,x_train.shape[0],size=4)\n",
    "images=x_train[indices]\n",
    "labels=y_train[indices]\n",
    "\n",
    "plt.figure(figsize=(2,2))\n",
    "for i in range(len(indices)):\n",
    "    plt.subplot(2,2,i+1)\n",
    "    image=images[i]\n",
    "    plt.imshow(image, cmap='gray')\n",
    "    plt.grid('off')\n",
    "plt.show()"
   ]
  },
  {
   "cell_type": "markdown",
   "id": "987a00c9",
   "metadata": {},
   "source": [
    "#### Randomly select 4 digits & plot"
   ]
  },
  {
   "cell_type": "markdown",
   "id": "725425cc",
   "metadata": {},
   "source": [
    "<br/><br/><br/>\n",
    "<hr style=\"border: 5px solid #990000;\" />\n",
    "<hr style=\"border: 1px solid #dbbcac;\" />\n",
    "\n",
    "\n",
    "## 1. PCA with MNIST data"
   ]
  },
  {
   "cell_type": "code",
   "execution_count": 4,
   "id": "67550fa3",
   "metadata": {},
   "outputs": [
    {
     "name": "stdout",
     "output_type": "stream",
     "text": [
      "(60000, 784)\n",
      "(10000, 784)\n"
     ]
    }
   ],
   "source": [
    "x_train=x_train.reshape(-1,28*28)\n",
    "x_test=x_test.reshape(-1,28*28)\n",
    "print(x_train.shape)\n",
    "print(x_test.shape)"
   ]
  },
  {
   "cell_type": "markdown",
   "id": "347e7566",
   "metadata": {},
   "source": [
    "#### Reshape (28,28)->728 "
   ]
  },
  {
   "cell_type": "code",
   "execution_count": 5,
   "id": "e49cc81b",
   "metadata": {},
   "outputs": [
    {
     "name": "stdout",
     "output_type": "stream",
     "text": [
      "-2.1974863349995617e-18\n",
      "0.9145408163265558\n"
     ]
    }
   ],
   "source": [
    "\n",
    "from sklearn.preprocessing import StandardScaler\n",
    "sc=StandardScaler()\n",
    "sc.fit(x_train)\n",
    "X_train_std=sc.transform(x_train)\n",
    "\n",
    "print(np.mean(X_train_std))#Almost 0\n",
    "print(np.var(X_train_std))#close to 1"
   ]
  },
  {
   "cell_type": "markdown",
   "id": "7ed12824",
   "metadata": {},
   "source": [
    "#### Center the data at zero"
   ]
  },
  {
   "cell_type": "code",
   "execution_count": 6,
   "id": "0d2441e3",
   "metadata": {},
   "outputs": [],
   "source": [
    "X_train_cov=np.matmul(X_train_std.T,X_train_std)"
   ]
  },
  {
   "cell_type": "markdown",
   "id": "740b3dba",
   "metadata": {},
   "source": [
    "#### Compute the covariance matrix"
   ]
  },
  {
   "cell_type": "code",
   "execution_count": 7,
   "id": "100bea9e",
   "metadata": {},
   "outputs": [
    {
     "name": "stdout",
     "output_type": "stream",
     "text": [
      "(784, 784)\n"
     ]
    }
   ],
   "source": [
    "print(X_train_cov.shape)"
   ]
  },
  {
   "cell_type": "code",
   "execution_count": 8,
   "id": "3e6cf6b3",
   "metadata": {},
   "outputs": [],
   "source": [
    "eig=np.linalg.eig\n",
    "eigen_value=eig(X_train_cov)[0]\n",
    "eigen_vector=eig(X_train_cov)[1]\n",
    "\n",
    "idx = eigen_value.argsort()[::-1]   \n",
    "eigen_value = eigen_value[idx]\n",
    "eigen_vector = eigen_vector[:,idx]"
   ]
  },
  {
   "cell_type": "markdown",
   "id": "54f4e34e",
   "metadata": {},
   "source": [
    "#### Find eigenvector & eigenvalue by covariance matrix & sort by descending way."
   ]
  },
  {
   "cell_type": "code",
   "execution_count": 9,
   "id": "5150f3fa",
   "metadata": {},
   "outputs": [
    {
     "name": "stdout",
     "output_type": "stream",
     "text": [
      "(784,)\n",
      "(784, 784)\n"
     ]
    }
   ],
   "source": [
    "print(eigen_value.shape)  \n",
    "print(eigen_vector.shape)"
   ]
  },
  {
   "cell_type": "code",
   "execution_count": 10,
   "id": "1898b90a",
   "metadata": {},
   "outputs": [
    {
     "data": {
      "image/png": "[encoded data removed]",
      "text/plain": [
       "<Figure size 432x288 with 1 Axes>"
      ]
     },
     "metadata": {
      "needs_background": "light"
     },
     "output_type": "display_data"
    }
   ],
   "source": [
    "tot=sum(eigen_value)\n",
    "var_exp=[(i/tot) for i in eigen_value[:299]]\n",
    "cum_var_exp=np.cumsum(var_exp)\n",
    "\n",
    "import matplotlib.pyplot as plt\n",
    "plt.bar(range(1,300),var_exp,alpha=0.5,align='center',label='individual explained variance')\n",
    "plt.step(range(1,300),cum_var_exp,where='mid',label='cumulative explained variance')\n",
    "plt.ylabel('Explained variance ratio')\n",
    "plt.xlabel('Principal component index')\n",
    "plt.legend(loc='best')\n",
    "plt.show()"
   ]
  },
  {
   "cell_type": "code",
   "execution_count": 11,
   "id": "23088b1d",
   "metadata": {},
   "outputs": [
    {
     "name": "stdout",
     "output_type": "stream",
     "text": [
      "236\n"
     ]
    }
   ],
   "source": [
    "for i in range(len(eigen_value)):\n",
    "    if sum(eigen_value[:i])/sum(eigen_value)>0.9:\n",
    "        print(i)\n",
    "        break"
   ]
  },
  {
   "cell_type": "markdown",
   "id": "bc6c5c57",
   "metadata": {},
   "source": [
    "#### When we use threshold 0.9, first 236 eigenvectors are used to explain 90% of total variance.\n",
    "#### But for the convenience of plotting, let's use 16*16=256 eigenvectors"
   ]
  },
  {
   "cell_type": "code",
   "execution_count": 12,
   "id": "10bdf312",
   "metadata": {},
   "outputs": [],
   "source": [
    "eigendigit_space=eigen_vector[:,:256] "
   ]
  },
  {
   "cell_type": "markdown",
   "id": "5a35a1ad",
   "metadata": {},
   "source": [
    "#### Select 256<<728 eigenvectors with highest eigenvalues"
   ]
  },
  {
   "cell_type": "code",
   "execution_count": 13,
   "id": "57ac10c0",
   "metadata": {},
   "outputs": [
    {
     "name": "stdout",
     "output_type": "stream",
     "text": [
      "(784, 256)\n"
     ]
    }
   ],
   "source": [
    "print(eigendigit_space.shape)"
   ]
  },
  {
   "cell_type": "code",
   "execution_count": 14,
   "id": "b97b135a",
   "metadata": {},
   "outputs": [],
   "source": [
    "projection=np.matmul(X_train_std,eigendigit_space)"
   ]
  },
  {
   "cell_type": "markdown",
   "id": "becabcad",
   "metadata": {},
   "source": [
    "#### Project data points to those eigenvectors"
   ]
  },
  {
   "cell_type": "code",
   "execution_count": 15,
   "id": "51ccc96c",
   "metadata": {},
   "outputs": [
    {
     "name": "stdout",
     "output_type": "stream",
     "text": [
      "(60000, 256)\n"
     ]
    }
   ],
   "source": [
    "print(projection.shape)"
   ]
  },
  {
   "cell_type": "code",
   "execution_count": 16,
   "id": "448ec170",
   "metadata": {
    "scrolled": true
   },
   "outputs": [
    {
     "name": "stdout",
     "output_type": "stream",
     "text": [
      "[[  0.92215881  -4.81479035  -0.06755984  -8.0513293   -0.9853473 ]\n",
      " [ -8.70897698  -7.75440302   3.44791044  -1.66832141   0.83479532]\n",
      " [ -2.32838932   9.43133817   6.18411405   1.72506609   4.09245604]\n",
      " [  6.58217331  -3.74631834  -3.69085127  -0.46104068   5.62732462]\n",
      " [  5.1832512    3.13329712   6.27794746   1.45965399  -1.60884235]\n",
      " [ -2.19840211  -3.06836644   0.2312572    2.75260056  -1.21688731]\n",
      " [  6.77334369   0.82307934  -2.93236971   0.98851194   1.46036522]\n",
      " [ -1.92690853  -5.40626434   0.16303186 -11.1530086   -5.0037197 ]\n",
      " [  7.82233526   0.19181     -1.10015127   1.55955849   4.22122044]\n",
      " [  3.22762585  -4.72642548   4.28898033   3.63120125  -0.71205431]]\n"
     ]
    }
   ],
   "source": [
    "print(projection[:10,:5])"
   ]
  },
  {
   "cell_type": "code",
   "execution_count": 17,
   "id": "46d323a5",
   "metadata": {},
   "outputs": [
    {
     "name": "stdout",
     "output_type": "stream",
     "text": [
      "(256, 28, 28)\n"
     ]
    },
    {
     "data": {
      "image/png": "[encoded data removed]",
      "text/plain": [
       "<Figure size 144x144 with 4 Axes>"
      ]
     },
     "metadata": {
      "needs_background": "light"
     },
     "output_type": "display_data"
    }
   ],
   "source": [
    "eigendigit=eigendigit_space.T.reshape(256,28,28) #For plotting eigendigits\n",
    "print(eigendigit.shape)\n",
    "\n",
    "indices=[0,1,254,255] #Top 2 eigendigits & Last 2 eigendigits\n",
    "images=eigendigit[indices]\n",
    "labels=y_train[indices]\n",
    "\n",
    "plt.figure(figsize=(2,2))\n",
    "for i in range(len(indices)):\n",
    "    plt.subplot(2,2,i+1)\n",
    "    image=images[i]\n",
    "    plt.imshow(image, cmap='gray')\n",
    "    plt.grid('off')\n",
    "plt.show()"
   ]
  },
  {
   "cell_type": "markdown",
   "id": "5eec4376",
   "metadata": {},
   "source": [
    "#### For the top 2 eigendigits, it seems that some digits are overlapped and that overlapping makes the feature.\n",
    "#### But for the last 2 eigendigits, we cannot figure out any features through our eyes.\n",
    "#### Next, let's reconstruct the first data for example."
   ]
  },
  {
   "cell_type": "code",
   "execution_count": 18,
   "id": "acc0ba5d",
   "metadata": {},
   "outputs": [],
   "source": [
    "first_recon=np.mean(x_train)+np.matmul(projection,eigendigit_space.T)[0]"
   ]
  },
  {
   "cell_type": "code",
   "execution_count": 19,
   "id": "ac657406",
   "metadata": {},
   "outputs": [
    {
     "data": {
      "image/png": "[encoded data removed]",
      "text/plain": [
       "<Figure size 432x288 with 1 Axes>"
      ]
     },
     "metadata": {
      "needs_background": "light"
     },
     "output_type": "display_data"
    }
   ],
   "source": [
    "first_recon=first_recon.reshape(28,28) #for plotting\n",
    "\n",
    "plt.figure()\n",
    "\n",
    "plt.imshow(first_recon, cmap='gray')\n",
    "plt.grid('off')\n",
    "plt.show()"
   ]
  },
  {
   "cell_type": "code",
   "execution_count": 20,
   "id": "a089ddd7",
   "metadata": {},
   "outputs": [
    {
     "data": {
      "text/plain": [
       "5"
      ]
     },
     "execution_count": 20,
     "metadata": {},
     "output_type": "execute_result"
    }
   ],
   "source": [
    "y_train[0]"
   ]
  },
  {
   "cell_type": "markdown",
   "id": "4f112201",
   "metadata": {},
   "source": [
    "#### The plot exactly seems like 5, and it's 5 actually.\n",
    "#### And the actual plot looks like this. It's simillar each other."
   ]
  },
  {
   "cell_type": "code",
   "execution_count": 21,
   "id": "6663c81a",
   "metadata": {},
   "outputs": [
    {
     "data": {
      "image/png": "[encoded data removed]",
      "text/plain": [
       "<Figure size 432x288 with 1 Axes>"
      ]
     },
     "metadata": {
      "needs_background": "light"
     },
     "output_type": "display_data"
    }
   ],
   "source": [
    "plt.figure()\n",
    "\n",
    "plt.imshow(x_train[0].reshape(28,28), cmap='gray')\n",
    "plt.grid('off')\n",
    "plt.show()"
   ]
  },
  {
   "cell_type": "markdown",
   "id": "2c50efed",
   "metadata": {},
   "source": [
    "<br/><br/><br/>\n",
    "<hr style=\"border: 5px solid #990000;\" />\n",
    "<hr style=\"border: 1px solid #dbbcac;\" />\n",
    "\n",
    "\n",
    "## 2. Face Recognition steps"
   ]
  },
  {
   "cell_type": "markdown",
   "id": "9274a668",
   "metadata": {},
   "source": [
    "Let's say there are M images of size $N X N$. Then the shape of the train set is $(N,N,M)$. Let's call this train set as A.\n",
    "<br/>\n",
    "\n",
    "First, we have to flat the data to train. After doing this, the size of the A would be $(N^2,M)$.\n",
    "<br/>\n",
    "\n",
    "Next, we have to average the A and the shape of average matrix will be $(N^2,1)$. Let's say this as A_avg\n",
    "<br/>\n",
    "\n",
    "With the average matrix, center the data by subtracting the A_avg from A. Let's say this as A_std\n",
    "<br/>\n",
    "\n",
    "Since we centered the data, covariance matrix can be computed simply by $AA^T$ and the size of this matrix would be $(N^2,N^2)$. But it's too big to compute. So compute $A^TA$ whose size is (M,M), and obtain eigenvectors of $A^TA, v_i$. then $Av_i$ will be eigen-face space. Let's say that as U whose size is $(N^2,M)$.\n",
    "<br/>\n",
    "\n",
    "Select the number of eigenvectors with some criterion. Assume that we select $k<<M$ eigenvectors. Then the size of U would be $(N^2,k)$.\n",
    "<br/>\n",
    "\n",
    "Then project the data in eigen-face space by simply computing $U^TA\\_std$ and that will be the eigen-face coordinates. Let's say this projection as W whose size is (k,M).\n",
    "<br/>\n",
    "\n",
    "We can reconstruct the train data  by $A\\_avg +\\Sigma(W_k^{(train)} U_k)$.\n",
    "<br/>\n",
    "\n",
    "With the test image, normalize the test image by subtracting the $A\\_avg$ from train set. Next, project on eigen-space U to obtain the weights for the test image.\n",
    "<br/>\n",
    "\n",
    "Then select the argmin i of the euclidean distance between the weights from the train data i & weights from the specific test image. And that test image is recognized as i'th sample from the training set."
   ]
  },
  {
   "cell_type": "markdown",
   "id": "c133f5d0",
   "metadata": {},
   "source": [
    "<br/><br/><br/>\n",
    "<hr style=\"border: 5px solid #990000;\" />\n",
    "<hr style=\"border: 1px solid #dbbcac;\" />\n",
    "\n",
    "\n",
    "## 3. Psedo-code"
   ]
  },
  {
   "cell_type": "markdown",
   "id": "c811dc11",
   "metadata": {},
   "source": [
    "1. Load the Face train data A that have M images & number of N^2 pixels.\n",
    "\n",
    "2. If face data has shape of $(N,N,M)$ then\n",
    "<br/>    &nbsp;&nbsp;&nbsp;&nbsp;&nbsp;&nbsp; flatten the data to $(N^2,M)$\n",
    "\n",
    "3. Compute the average of face data along the row axis, $A\\_avg$.\n",
    "\n",
    "4. Compute $A-A\\_avg$.\n",
    "\n",
    "5. If there is many data  (i.e. $N^2<<M$) then\n",
    "<br/>    &nbsp;&nbsp;&nbsp;&nbsp;&nbsp;&nbsp; Just compute Covariance matrix by $AA^T$.\n",
    "<br/>    &nbsp;&nbsp;&nbsp;&nbsp;&nbsp;&nbsp; Compute eigenvalue & eigenvector by covariance matrix.\n",
    "<br/>    &nbsp;&nbsp;&nbsp;&nbsp;&nbsp;&nbsp; Select $k<<M$ eigenvector by the criterion and call it U.\n",
    "<br/>\n",
    "else \n",
    "<br/>    &nbsp;&nbsp;&nbsp;&nbsp;&nbsp;&nbsp; Compute $A^TA$.\n",
    "<br/>    &nbsp;&nbsp;&nbsp;&nbsp;&nbsp;&nbsp; Compute eigenvector $v_i$ of $A^TA$.\n",
    "<br/>    &nbsp;&nbsp;&nbsp;&nbsp;&nbsp;&nbsp; Compute $Av_i$.\n",
    "<br/>    &nbsp;&nbsp;&nbsp;&nbsp;&nbsp;&nbsp; Select $k<<M$ eigenvector by the criterion and call it U.\n",
    "\n",
    "6. Compute $U^T(A-A\\_avg)$ which is the projection of image.\n",
    "\n",
    "7. We can reconstruct the data by computing $A\\_avg+U^T(A-A\\_avg)U$.\n",
    "\n",
    "8. Given an unknown face image, Compute $test-A\\_avg$.\n",
    "\n",
    "9. Compute weights for the test image in eigen-space by $U^T(test-A\\_avg)$\n",
    "\n",
    "10. Compute $dist(U^T(train_i-A\\_avg),U^T(test-A\\_avg))$ for all ith samples in train set.\n",
    "\n",
    "11. Test image is recognized as face i which has the minimum distance."
   ]
  },
  {
   "cell_type": "markdown",
   "id": "be34cdcc",
   "metadata": {},
   "source": [
    "<br/><br/><br/>\n",
    "<hr style=\"border: 5px solid #990000;\" />\n",
    "<hr style=\"border: 1px solid #dbbcac;\" />\n",
    "\n",
    "\n",
    "## 4. Distinguish MNIST test set"
   ]
  },
  {
   "cell_type": "markdown",
   "id": "320a601b",
   "metadata": {},
   "source": [
    "#### This starts at step 8 of psedo-code because I already done step 1 to 7 already in Chapter 1."
   ]
  },
  {
   "cell_type": "code",
   "execution_count": 22,
   "id": "6d70ec06",
   "metadata": {},
   "outputs": [],
   "source": [
    "sc=StandardScaler()\n",
    "sc.fit(x_train)\n",
    "X_test_std=sc.transform(x_test)"
   ]
  },
  {
   "cell_type": "markdown",
   "id": "4754f365",
   "metadata": {},
   "source": [
    "#### Center the data by subtracting mean of the train set."
   ]
  },
  {
   "cell_type": "code",
   "execution_count": 23,
   "id": "29b511d2",
   "metadata": {},
   "outputs": [
    {
     "name": "stdout",
     "output_type": "stream",
     "text": [
      "(10000, 256)\n"
     ]
    }
   ],
   "source": [
    "weight_test=np.matmul(X_test_std,eigendigit_space)\n",
    "print(weight_test.shape)"
   ]
  },
  {
   "cell_type": "code",
   "execution_count": 24,
   "id": "13016850",
   "metadata": {},
   "outputs": [
    {
     "name": "stdout",
     "output_type": "stream",
     "text": [
      "(60000, 256)\n"
     ]
    }
   ],
   "source": [
    "weight_train=projection\n",
    "print(weight_train.shape)"
   ]
  },
  {
   "cell_type": "code",
   "execution_count": 25,
   "id": "a0fca416",
   "metadata": {},
   "outputs": [],
   "source": [
    "index=[]\n",
    "for i in range(len(weight_test)):\n",
    "    dist=[]\n",
    "    append=dist.append\n",
    "    for j in range(len(weight_train)):\n",
    "        append(np.linalg.norm(weight_train[j]-weight_test[i]))\n",
    "    index.append(np.argmin(dist))"
   ]
  },
  {
   "cell_type": "markdown",
   "id": "33b80528",
   "metadata": {},
   "source": [
    "#### Compute all euclidean distances betweein weight_train & weight_test and select the minimum distance."
   ]
  },
  {
   "cell_type": "code",
   "execution_count": 26,
   "id": "6ba39ffa",
   "metadata": {},
   "outputs": [],
   "source": [
    "predicted_y=y_train[index]"
   ]
  },
  {
   "cell_type": "code",
   "execution_count": 27,
   "id": "39c86588",
   "metadata": {},
   "outputs": [
    {
     "data": {
      "text/plain": [
       "0.9513"
      ]
     },
     "execution_count": 27,
     "metadata": {},
     "output_type": "execute_result"
    }
   ],
   "source": [
    "sum(y_test==predicted_y)/len(predicted_y) "
   ]
  },
  {
   "cell_type": "markdown",
   "id": "60c68889",
   "metadata": {},
   "source": [
    "#### 95.13% accuracy with the test set."
   ]
  }
 ],
 "metadata": {
  "kernelspec": {
   "display_name": "Python 3 (ipykernel)",
   "language": "python",
   "name": "python3"
  },
  "language_info": {
   "codemirror_mode": {
    "name": "ipython",
    "version": 3
   },
   "file_extension": ".py",
   "mimetype": "text/x-python",
   "name": "python",
   "nbconvert_exporter": "python",
   "pygments_lexer": "ipython3",
   "version": "3.8.10"
  }
 },
 "nbformat": 4,
 "nbformat_minor": 5
}
